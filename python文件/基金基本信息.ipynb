{
 "cells": [
  {
   "cell_type": "code",
   "execution_count": 6,
   "metadata": {},
   "outputs": [],
   "source": [
    "import numpy as np\n",
    "import pandas as pd\n",
    "\n"
   ]
  },
  {
   "cell_type": "code",
   "execution_count": 7,
   "metadata": {},
   "outputs": [
    {
     "name": "stdout",
     "output_type": "stream",
     "text": [
      "基金基本信息数据生成完毕！\n"
     ]
    },
    {
     "name": "stderr",
     "output_type": "stream",
     "text": [
      "/var/folders/ss/1q1698t96cx10qlsfsw1wy640000gn/T/ipykernel_60436/2712904003.py:2: DtypeWarning: Columns (3) have mixed types. Specify dtype option on import or set low_memory=False.\n",
      "  fund_inform = pd.read_csv(path, encoding='GBK', index_col=0)\n"
     ]
    }
   ],
   "source": [
    "def get_discription(path):\n",
    "    fund_inform = pd.read_csv(path, encoding='GBK', index_col=0)\n",
    "    selected_columns = ['F_INFO_WINDCODE', 'F_INFO_FULLNAME', 'F_INFO_SETUPDATE', 'F_INFO_CORP_FUNDMANAGEMENTCOMP']\n",
    "    fund_inform = fund_inform[selected_columns]\n",
    "    fund_inform.columns = ['基金代码', '基金名称', '成立日期', '管理人']\n",
    "        # ... your other code ...\n",
    "\n",
    "# Convert to string and remove any trailing \".0\"\n",
    "    fund_inform['成立日期'] = fund_inform['成立日期'].astype(str).str.rstrip('.0')\n",
    "\n",
    "# Now convert to datetime\n",
    "    fund_inform['成立日期'] = pd.to_datetime(fund_inform['成立日期'], format='%Y%m%d')\n",
    "\n",
    "    return fund_inform\n",
    "\n",
    "if __name__ == '__main__':\n",
    "    # 导入数据\n",
    "    path = \"/Users/wanghejin/desktop/多因子模型/data/wind_database/ChinaMutualFundDescription.csv\"\n",
    "    # 生成数据\n",
    "    fund_information = get_discription(path)\n",
    "    # 保存数据\n",
    "    fund_information.to_pickle(\"/Users/wanghejin/desktop/多因子模型/data/fund_nav.csv\")\n",
    "    print(\"基金基本信息数据生成完毕！\")"
   ]
  }
 ],
 "metadata": {
  "kernelspec": {
   "display_name": "Python 3",
   "language": "python",
   "name": "python3"
  },
  "language_info": {
   "codemirror_mode": {
    "name": "ipython",
    "version": 3
   },
   "file_extension": ".py",
   "mimetype": "text/x-python",
   "name": "python",
   "nbconvert_exporter": "python",
   "pygments_lexer": "ipython3",
   "version": "3.11.4"
  },
  "orig_nbformat": 4
 },
 "nbformat": 4,
 "nbformat_minor": 2
}
