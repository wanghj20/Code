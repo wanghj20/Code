{
 "cells": [
  {
   "cell_type": "code",
   "execution_count": 10,
   "metadata": {},
   "outputs": [],
   "source": [
    "import numpy as np\n",
    "import pandas as pd\n",
    "import warnings\n",
    "warnings.filterwarnings('ignore')"
   ]
  },
  {
   "cell_type": "code",
   "execution_count": 14,
   "metadata": {},
   "outputs": [],
   "source": [
    "def get_fund_nav(path):\n",
    "    fund_nav_df = pd.read_csv(path, encoding='GBK', index_col=0)\n",
    "    fund_nav_df.columns = ['基金代码', '公告日期', '截止日期', '单位净值', '复权净值', '合计资产净值']\n",
    "        # ... your other code ...\n",
    "\n",
    "# Convert to string and remove any trailing \".0\"\n",
    "    fund_nav_df['公告日期'] = fund_nav_df['公告日期'].astype(str).str.rstrip('.0')\n",
    "    fund_nav_df['截止日期'] = fund_nav_df['截止日期'].astype(str).str.rstrip('.0')\n",
    "\n",
    "# Now convert to datetime\n",
    "    fund_nav_df['公告日期'] = pd.to_datetime(fund_nav_df['公告日期'], format='%Y%m%d')\n",
    "    fund_nav_df['截止日期'] = pd.to_datetime(fund_nav_df['截止日期'], format='%Y%m%d')\n",
    "\n",
    "# ... your other code ...\n",
    "\n",
    "    \n",
    "    \n",
    "    return fund_nav_df\n",
    "\n",
    "if __name__ == '__main__':\n",
    "    # 导入数据\n",
    "    path = \"/Users/wanghejin/desktop/多因子模型/data/wind_database/fund_nav.csv\"\n",
    "    # 生成数据\n",
    "    fund_nav_df = get_fund_nav(path)\n",
    "    # 保存数据\n",
    "    fund_nav.to_pickle(\"/Users/wanghejin/desktop/多因子模型/data/fund_nav.csv\")\n",
    "    print(\"基金买卖数据生成完毕！\")\n"
   ]
  }
 ],
 "metadata": {
  "kernelspec": {
   "display_name": "Python 3",
   "language": "python",
   "name": "python3"
  },
  "language_info": {
   "codemirror_mode": {
    "name": "ipython",
    "version": 3
   },
   "file_extension": ".py",
   "mimetype": "text/x-python",
   "name": "python",
   "nbconvert_exporter": "python",
   "pygments_lexer": "ipython3",
   "version": "3.11.4"
  },
  "orig_nbformat": 4
 },
 "nbformat": 4,
 "nbformat_minor": 2
}
