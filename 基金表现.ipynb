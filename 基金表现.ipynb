{
 "cells": [
  {
   "cell_type": "code",
   "execution_count": 8,
   "metadata": {},
   "outputs": [],
   "source": [
    "import numpy as np\n",
    "import pandas as pd\n",
    "import torch\n",
    "import torch.nn as nn\n",
    "import torch.nn.functional as F\n",
    "\n",
    "# fund_performance_path = \"/Users/wanghejin/Downloads/fund_perf2013.pkl.gz\"\n",
    "# fund_nav = pd.read_pickle(fund_performance_path)\n",
    "# subset = fund_nav.columns\n",
    "# print(subset)\n"
   ]
  },
  {
   "cell_type": "code",
   "execution_count": 9,
   "metadata": {},
   "outputs": [
    {
     "name": "stdout",
     "output_type": "stream",
     "text": [
      "基金表现数据生成完毕！\n"
     ]
    }
   ],
   "source": [
    "def get_performance(path):\n",
    "    fund_performance = pd.read_pickle(path)\n",
    "    new_columns = [\"编号\",\n",
    "    \"基金代码\", \"交易日期\", \"收益率(本周以来)\", \"收益率(本月以来)\", \"收益率(本季以来)\",\n",
    "    \"收益率(一周)\", \"收益率(一个月)\", \"收益率(三个月)\", \"收益率(六个月)\", \"收益率(本年以来)\",\n",
    "    \"收益率(一年)\", \"收益率(两年)\", \"收益率(三年)\", \"收益率(四年)\", \"收益率(五年)\",\n",
    "    \"收益率(六年)\", \"收益率(成立以来)\", \"年化收益率\", \"当天跟踪偏离度\", \"今年以来同类基金收益率\",\n",
    "    \"今年以来同类排名(YTD)\", \"最近三月同类基金收益率\", \"最近三月同类排名\", \"最近六月同类基金收益率\",\n",
    "    \"最近六月同类排名\", \"最近一年同类基金收益率\", \"最近一年同类排名\", \"最近两年同类基金收益率\",\n",
    "    \"最近两年同类排名\", \"最近三年同类基金收益率\", \"最近三年同类排名\", \"最近五年同类基金收益率\",\n",
    "    \"最近五年同类排名\", \"成立以来同类基金收益率\", \"成立以来同类排名(不建议使用)\", \"成立以来年化同类收益率\",\n",
    "    \"当天年化收益率同类排名\", \"标准差(六个月)\", \"标准差(一年)\", \"标准差(两年)\", \"标准差(三年)\",\n",
    "    \"标准差(五年)\", \"标准差(成立以来)\", \"夏普比率(六个月)\", \"夏普比率(一年)\", \"夏普比率(两年)\",\n",
    "    \"夏普比率(三年)\", \"最近一周同类基金收益率\", \"最近一周同类排名\", \"最近一月同类基金收益率\",\n",
    "    \"最近一月同类排名\", \"基金分类\", \"收益率(当天)\", \"今年以来同类排名\", \"最近三月同类排名(3个月)\",\n",
    "    \"最近六月同类排名(6个月)\", \"最近一年同类排名 (1年)\", \"最近两年同类排名(2年)\", \"最近三年同类排名 (3年)\",\n",
    "    \"最近五年同类排名 (5年)\", \"成立以来同类排名\", \"成立以来年化收益率同类排名\", \"最近一周同类排名 (1周)\",\n",
    "    \"最近一月同类排名 (1月)\", \"BETA(6月)\", \"BETA(1年)\", \"BETA(2年)\", \"BETA(3年)\", \"ALPHA(6月)\",\n",
    "    \"ALPHA(1年)\", \"ALPHA(2年)\", \"ALPHA(3年)\", \"当日同类收益率\", \"当日同类收益率排名\", \"当日同类收益率排名(文本)\",\n",
    "    \"成立以来年化收益率\", \"最大回撤(三个月)\", \"最大回撤(六个月)\", \"最大回撤(一年)\", \"最大回撤(两年)\",\n",
    "    \"最大回撤(三年)\", \"最大回撤(今年以来)\", \"最大回撤(成立以来)\", \"最大回撤（近1周）\", \"最大回撤（近1月）\",\n",
    "    \"信息比率(近1周)\", \"信息比率(近1月)\", \"信息比率(近3月)\", \"信息比率(近6月)\", \"信息比率(近1年)\",\n",
    "    \"信息比率(近2年)\", \"信息比率(近3年)\", \"信息比率(近5年)\", \"信息比率(今年以来)\", \"信息比率(成立以来)\",\n",
    "    \"夏普比率(成立以来)\", \"夏普比率(一个月)\", \"夏普比率(三个月)\", \"夏普比率(今年以来)\", \"BETA(一个月)\",\n",
    "    \"BETA(三个月)\", \"BETA(今年以来)\", \"BETA(成立以来)\", \"ALPHA(一个月)\", \"ALPHA(三个月)\",\n",
    "    \"ALPHA(今年以来)\", \"ALPHA(成立以来)\", \"标准差(一个月)\", \"标准差(三个月)\", \"标准差(今年以来)\",\n",
    "    \"本季以来同类排名\",\"入库时间\",\"OPMODE\"\n",
    "]\n",
    "\n",
    "    fund_performance.columns = new_columns\n",
    "        # ... your other code ...\n",
    "\n",
    "# Convert to string and remove any trailing \".0\"\n",
    "    fund_performance['交易日期'] = fund_performance['交易日期'].astype(str).str.rstrip('.0')\n",
    "\n",
    "# Now convert to datetime\n",
    "    fund_performance['交易日期'] = pd.to_datetime(fund_performance['交易日期'], format='%Y%m%d')\n",
    "\n",
    "    return fund_performance\n",
    "\n",
    "if __name__ == '__main__':\n",
    "    # 导入数据\n",
    "    path = \"/Users/wanghejin/desktop/多因子模型/data/wind_database/fund_perf2013.pkl.gz\"\n",
    "    # 生成数据\n",
    "    fund_perform = get_performance(path)\n",
    "    # 保存数据\n",
    "    fund_perform.to_pickle(\"/Users/wanghejin/desktop/多因子模型/data/基金表现.pkl.gz\")\n",
    "    print(\"基金表现数据生成完毕！\")"
   ]
  }
 ],
 "metadata": {
  "kernelspec": {
   "display_name": "Python 3",
   "language": "python",
   "name": "python3"
  },
  "language_info": {
   "codemirror_mode": {
    "name": "ipython",
    "version": 3
   },
   "file_extension": ".py",
   "mimetype": "text/x-python",
   "name": "python",
   "nbconvert_exporter": "python",
   "pygments_lexer": "ipython3",
   "version": "3.11.4"
  },
  "orig_nbformat": 4
 },
 "nbformat": 4,
 "nbformat_minor": 2
}
